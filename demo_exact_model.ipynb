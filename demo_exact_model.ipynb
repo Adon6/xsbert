{
 "cells": [
  {
   "cell_type": "markdown",
   "metadata": {},
   "source": [
    "# Attributions for Siamese Encoders - Demo"
   ]
  },
  {
   "cell_type": "code",
   "execution_count": 23,
   "metadata": {},
   "outputs": [],
   "source": [
    "import torch\n",
    "from xsbert import utils\n",
    "from xsbert.models import XSMPNet, XSRoberta, load_model"
   ]
  },
  {
   "cell_type": "markdown",
   "metadata": {},
   "source": [
    "### loading exact model\n",
    "\n",
    "You can load one of the models with exact attribution ability that we provide with the `load_model()` method as follows.\n",
    "Downloading the checkpoint the first time will take a while. It is then stored in the directory specified by `model_dir`."
   ]
  },
  {
   "cell_type": "code",
   "execution_count": 24,
   "metadata": {},
   "outputs": [
    {
     "name": "stdout",
     "output_type": "stream",
     "text": [
      "initializing\n"
     ]
    },
    {
     "data": {
      "text/plain": [
       "XSMPNet(\n",
       "  (0): Transformer({'max_seq_length': 512, 'do_lower_case': False}) with Transformer model: MPNetModel \n",
       "  (1): Pooling({'word_embedding_dimension': 768, 'pooling_mode_cls_token': False, 'pooling_mode_mean_tokens': True, 'pooling_mode_max_tokens': False, 'pooling_mode_mean_sqrt_len_tokens': False, 'pooling_mode_weightedmean_tokens': False, 'pooling_mode_lasttoken': False, 'include_prompt': True})\n",
       ")"
      ]
     },
     "execution_count": 24,
     "metadata": {},
     "output_type": "execute_result"
    }
   ],
   "source": [
    "model_name = 'mpnet_cos'\n",
    "model = load_model(model_name, model_dir='../xs_models/')\n",
    "model.to(torch.device('cuda'))"
   ]
  },
  {
   "cell_type": "markdown",
   "metadata": {},
   "source": [
    "If you have already downloaded a checkpoint or want to load one that you created yourself, you can alternatively load it direcly using the respective model classes."
   ]
  },
  {
   "cell_type": "code",
   "execution_count": 3,
   "metadata": {},
   "outputs": [],
   "source": [
    "# model_path = '../xs_models/xs_mpnet/'\n",
    "# model = XSMPNet(model_path)\n",
    "# model_path = '../xsmodels/xs_distilroberta/'\n",
    "# model = XSRoberta(model_path)\n",
    "# model.to(torch.device('cuda:0'))"
   ]
  },
  {
   "cell_type": "markdown",
   "metadata": {},
   "source": [
    "### initializing attributions\n",
    "\n",
    "The `init_attribution_to_layer()` method of the `models.XSTransformer` class initializes attributions to the layer with index `idx`. `N_steps` is the number of approximation steps to calculate the *integrated Jacobians* ($N$ in the paper).\n",
    "\n",
    "`reset_attribution()` removes all hooks that are registered on the model for calculating attributions. After calling it, you can initialize attributions to a different layer."
   ]
  },
  {
   "cell_type": "code",
   "execution_count": 25,
   "metadata": {},
   "outputs": [],
   "source": [
    "model.reset_attribution()\n",
    "model.init_attribution_to_layer(idx=10, N_steps=50)"
   ]
  },
  {
   "cell_type": "markdown",
   "metadata": {},
   "source": [
    "### computing attributions\n",
    "\n",
    "In this demo we compute the attribution matrix for a single pair of texts that you can define here:"
   ]
  },
  {
   "cell_type": "code",
   "execution_count": 26,
   "metadata": {},
   "outputs": [],
   "source": [
    "texta = 'The coffee is bad.'\n",
    "textb = 'This is not a good coffee.'"
   ]
  },
  {
   "cell_type": "markdown",
   "metadata": {},
   "source": [
    "After initializing attributions (above), we use the method `attribute_prediction` in the `models.XSTransformer` class to compute the attribution matrix $A$.\n",
    "\n",
    "When setting the argument `compute_lhs` the method explicitly computes the four terms in the ansatz (left-hand-side of Equation 2 in the EMNLP paper), $f(a, b) - f(r, a) - f(r, b) + f(r, r)$. Below they are named as `score`, `ra`, `rb`, and `rr` in the respective order."
   ]
  },
  {
   "cell_type": "code",
   "execution_count": 14,
   "metadata": {},
   "outputs": [
    {
     "name": "stderr",
     "output_type": "stream",
     "text": [
      "100%|██████████| 768/768 [00:02<00:00, 309.15it/s]\n",
      "100%|██████████| 768/768 [00:02<00:00, 299.16it/s]\n"
     ]
    }
   ],
   "source": [
    "A, tokens_a, tokens_b, score, ra, rb, rr = model.explain_similarity(\n",
    "    texta, \n",
    "    textb, \n",
    "    move_to_cpu=False,\n",
    "    # When using a model trained with a dot product objective you must change sim_measure to \"dot\".\n",
    "    sim_measure='cos',\n",
    "    return_lhs_terms=True\n",
    ")"
   ]
  },
  {
   "cell_type": "markdown",
   "metadata": {},
   "source": [
    "### attribution accuracy\n",
    "\n",
    "The first term, $f(a, b)$ (`score`), is the actual model prediction.\n",
    "Due to the embedding shift implemented in the `models.ShiftingReferenceTransformer` (cf. Section 2.2 in the EMNLP paper), by construction, the three terms including a reference $r$ must vanish. Below, we explicitly check that this is the case.\n",
    "\n",
    "We can also calculate how accurate our attributions are by taking the absolute difference between their sum and the model (as described in Section 3.2 of the paper): $\\text{error} = \\|f(a, b) - \\sum_{ij} A_{ij}\\|$.\n",
    "\n",
    "You can change the number of approximation steps $N$ in the `init_attribution_to_layer()` method to see how this attribution error changes.\n",
    "Generally, attributions to shallower layers require larger $N$ (cf. Section 3.2 in the paper)."
   ]
  },
  {
   "cell_type": "code",
   "execution_count": 15,
   "metadata": {},
   "outputs": [
    {
     "name": "stdout",
     "output_type": "stream",
     "text": [
      "model prediction:  0.7807894349098206\n",
      "total attribution:  0.783688485622406\n",
      "reference terms:  0.0 0.0 0.0\n",
      "attribution error:  0.0028990507125854492\n"
     ]
    }
   ],
   "source": [
    "tot_attr = A.sum().item()\n",
    "attr_err = torch.abs(A.sum() - score).item()\n",
    "print('model prediction: ', score)\n",
    "print('total attribution: ', tot_attr)\n",
    "print('reference terms: ', ra, rb, rr)\n",
    "print('attribution error: ', attr_err)"
   ]
  },
  {
   "cell_type": "markdown",
   "metadata": {},
   "source": [
    "### plotting attributions\n",
    "\n",
    "Finally, we can plot the token-token attribution matrix."
   ]
  },
  {
   "cell_type": "code",
   "execution_count": 16,
   "metadata": {},
   "outputs": [
    {
     "name": "stderr",
     "output_type": "stream",
     "text": [
      "C:\\Users\\Adon\\AppData\\Local\\Temp\\ipykernel_21968\\3334287601.py:10: UserWarning: FigureCanvasAgg is non-interactive, and thus cannot be shown\n",
      "  f.show()\n"
     ]
    },
    {
     "data": {
      "image/png": "[encoded data removed]",
      "text/plain": [
       "<Figure size 500x500 with 2 Axes>"
      ]
     },
     "metadata": {},
     "output_type": "display_data"
    }
   ],
   "source": [
    "f = utils.plot_attributions(\n",
    "    A, \n",
    "    tokens_a, \n",
    "    tokens_b, \n",
    "    size=(5, 5),\n",
    "    range=.3,\n",
    "    show_colorbar=True, \n",
    "    shrink_colorbar=.5\n",
    ")\n",
    "f.show()"
   ]
  }
 ],
 "metadata": {
  "kernelspec": {
   "display_name": "Python 3",
   "language": "python",
   "name": "python3"
  },
  "language_info": {
   "codemirror_mode": {
    "name": "ipython",
    "version": 3
   },
   "file_extension": ".py",
   "mimetype": "text/x-python",
   "name": "python",
   "nbconvert_exporter": "python",
   "pygments_lexer": "ipython3",
   "version": "3.10.11"
  },
  "orig_nbformat": 4
 },
 "nbformat": 4,
 "nbformat_minor": 2
}
